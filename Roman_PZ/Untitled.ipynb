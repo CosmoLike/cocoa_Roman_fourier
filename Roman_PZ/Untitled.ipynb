{
 "cells": [
  {
   "cell_type": "code",
   "execution_count": 20,
   "id": "1de5d587-a82f-48ab-bfea-c06b4bbe40eb",
   "metadata": {},
   "outputs": [
    {
     "ename": "SyntaxError",
     "evalue": "unexpected EOF while parsing (1053220672.py, line 45)",
     "output_type": "error",
     "traceback": [
      "\u001b[0;36m  File \u001b[0;32m\"/var/folders/5l/2gx24yps3m91c930xc2sty540000gn/T/ipykernel_99521/1053220672.py\"\u001b[0;36m, line \u001b[0;32m45\u001b[0m\n\u001b[0;31m    # # (225, 400, 3)\u001b[0m\n\u001b[0m                     ^\u001b[0m\n\u001b[0;31mSyntaxError\u001b[0m\u001b[0;31m:\u001b[0m unexpected EOF while parsing\n"
     ]
    }
   ],
   "source": [
    "import Image, os\n",
    "p = '../../../Documents/ACL_logo_basic.jpg'\n",
    "im = Image.open(p)\n",
    "# check if im has Alpha band...\n",
    "if im.mode != 'RGBA':\n",
    "    im = im.convert('RGBA')\n",
    "# create a vertical gradient...\n",
    "gradient = Image.new('L',(1,255))\n",
    "for y in range(255):\n",
    "    gradient.putpixel((0,254-y),y)\n",
    "# resize the gradient to the size of im...\n",
    "alpha = gradient.resize(im.size)\n",
    "# put alpha in the alpha band of im...\n",
    "im.putalpha(alpha)\n",
    "# Save as png...\n",
    "im.save(os.path.splitext(p)[0] + '.png', 'PNG'\n",
    "        \n",
    "        \n",
    "# from PIL import Image\n",
    "# import numpy as np\n",
    "\n",
    "# def get_gradient_2d(start, stop, width, height, is_horizontal):\n",
    "#     if is_horizontal:\n",
    "#         return np.tile(np.linspace(start, stop, width), (height, 1))\n",
    "#     else:\n",
    "#         return np.tile(np.linspace(start, stop, height), (width, 1)).T\n",
    "    \n",
    "# def get_gradient_3d(width, height, start_list, stop_list, is_horizontal_list):\n",
    "#     result = np.zeros((height, width, len(start_list)), dtype=np.float)\n",
    "\n",
    "#     for i, (start, stop, is_horizontal) in enumerate(zip(start_list, stop_list, is_horizontal_list)):\n",
    "#         result[:, :, i] = get_gradient_2d(start, stop, width, height, is_horizontal)\n",
    "\n",
    "#     return result\n",
    "\n",
    "# im = np.array(Image.open('../../../Documents/ACL_logo_basic.jpg'))\n",
    "\n",
    "# print(type(im))\n",
    "# # <class 'numpy.ndarray'>\n",
    "\n",
    "# print(im.dtype)\n",
    "# # uint8\n",
    "\n",
    "# print(im.shape)\n",
    "# # (225, 400, 3)\n"
   ]
  },
  {
   "cell_type": "code",
   "execution_count": null,
   "id": "164a70d4-bf94-428a-af75-4a2499317998",
   "metadata": {},
   "outputs": [],
   "source": []
  },
  {
   "cell_type": "code",
   "execution_count": null,
   "id": "bf91b6ed-2a2b-430c-80ab-96963cddfa02",
   "metadata": {},
   "outputs": [],
   "source": []
  }
 ],
 "metadata": {
  "kernelspec": {
   "display_name": "Python 3 (ipykernel)",
   "language": "python",
   "name": "python3"
  },
  "language_info": {
   "codemirror_mode": {
    "name": "ipython",
    "version": 3
   },
   "file_extension": ".py",
   "mimetype": "text/x-python",
   "name": "python",
   "nbconvert_exporter": "python",
   "pygments_lexer": "ipython3",
   "version": "3.9.13"
  }
 },
 "nbformat": 4,
 "nbformat_minor": 5
}
